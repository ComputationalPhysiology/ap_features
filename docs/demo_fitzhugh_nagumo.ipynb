{
 "cells": [
  {
   "cell_type": "markdown",
   "metadata": {},
   "source": [
    "# Demo - Fitzhugh-Nagumo neural model\n",
    "\n",
    "ref: https://en.wikipedia.org/wiki/FitzHugh–Nagumo_model\n",
    "\n",
    "The FitzHugh–Nagumo model (FHN), named after Richard FitzHugh (1922–2007) who suggested the system in 1961 and J. Nagumo et al. who created the equivalent circuit the following year, describes a prototype of an excitable system (e.g., a neuron).\n",
    "\n",
    "The FHN Model is an example of a relaxation oscillator because, if the external stimulus  $I_{\\text{ext}}$ exceeds a certain threshold value, the system will exhibit a characteristic excursion in phase space, before the variables $v$ and $w$ relax back to their rest values.\n",
    "\n",
    "This behaviour is typical for spike generations (a short, nonlinear elevation of membrane voltage $v$, diminished over time by a slower, linear recovery variable $w$) in a neuron after stimulation by an external input current.\n",
    "\n",
    "The equations for this dynamical system read\n",
    "\n",
    "\\begin{align}\n",
    "\\dot{v} &= v - \\frac{v^3}{3} -w + RI_{\\text{ext}} \\\\\n",
    "\\tau \\dot{w} &= v + a - bw \n",
    "\\end{align}\n",
    "\n",
    "The dynamics of this system can be nicely described by zapping between the left and right branch of the cubic nullcline.\n",
    "\n",
    "The FitzHugh–Nagumo model is a simplified 2D version of the Hodgkin–Huxley model which models in a detailed manner activation and deactivation dynamics of a spiking neuron. In the original papers of FitzHugh, this model was called Bonhoeffer–Van der Pol oscillator (named after Karl-Friedrich Bonhoeffer and Balthasar van der Pol) because it contains the Van der Pol oscillator as a special case for $a=b=0$. The equivalent circuit was suggested by Jin-ichi Nagumo, Suguru Arimoto, and Shuji Yoshizawa."
   ]
  },
  {
   "cell_type": "markdown",
   "metadata": {},
   "source": [
    "## Code example\n",
    "\n",
    "Import the necessary pagages"
   ]
  },
  {
   "cell_type": "code",
   "execution_count": null,
   "metadata": {},
   "outputs": [],
   "source": [
    "import ap_features as apf\n",
    "import matplotlib.pyplot as plt\n",
    "import numpy as np\n",
    "from scipy.integrate import solve_ivp"
   ]
  },
  {
   "cell_type": "markdown",
   "metadata": {},
   "source": [
    "Define the right hand side of the ODE"
   ]
  },
  {
   "cell_type": "code",
   "execution_count": null,
   "metadata": {},
   "outputs": [],
   "source": [
    "def fitzhugh_nagumo(t, x, a, b, tau, Iext):\n",
    "    \"\"\"Time derivative of the Fitzhugh-Nagumo neural model.\n",
    "    Parameters\n",
    "\n",
    "    Parameters\n",
    "    ----------\n",
    "    t : float\n",
    "        Time (not used)\n",
    "    x : np.ndarray\n",
    "        State of size 2 - (Membrane potential, Recovery variable)\n",
    "    a : float\n",
    "        Parameter in the model\n",
    "    b : float\n",
    "        Parameter in the model\n",
    "    tau : float\n",
    "        Time scale\n",
    "    Iext : float\n",
    "        Constant stimulus current\n",
    "\n",
    "    Returns\n",
    "    -------\n",
    "    np.ndarray\n",
    "        dx/dt - size 2\n",
    "    \"\"\"\n",
    "    return np.array([x[0] - x[0] ** 3 - x[1] + Iext, (x[0] - a - b * x[1]) / tau])"
   ]
  },
  {
   "cell_type": "markdown",
   "metadata": {},
   "source": [
    "Select some parameters and solve the system"
   ]
  },
  {
   "cell_type": "code",
   "execution_count": null,
   "metadata": {},
   "outputs": [],
   "source": [
    "a = -0.3\n",
    "b = 1.4\n",
    "tau = 20\n",
    "Iext = 0.23\n",
    "time = np.linspace(0, 999, 1000)\n",
    "res = solve_ivp(\n",
    "    fitzhugh_nagumo,\n",
    "    [0, 1000],\n",
    "    [0, 0],\n",
    "    args=(a, b, tau, Iext),\n",
    "    t_eval=time,\n",
    ")"
   ]
  },
  {
   "cell_type": "markdown",
   "metadata": {},
   "source": [
    "Collect the solutions and create a beats object"
   ]
  },
  {
   "cell_type": "code",
   "execution_count": null,
   "metadata": {},
   "outputs": [],
   "source": [
    "v = res.y[0, :]\n",
    "w = res.y[1, :]\n",
    "\n",
    "s = apf.Beats(y=v, t=time)"
   ]
  },
  {
   "cell_type": "code",
   "execution_count": null,
   "metadata": {},
   "outputs": [],
   "source": [
    "fig, ax = plt.subplots()\n",
    "ax.plot(time, v, label=\"$v$\")\n",
    "ax.plot(time, w, label=\"$w$\")\n",
    "ax.legend()\n",
    "ax.set_xlabel(\"Time [ms]\")\n",
    "ax.set_title(\"Fithugh Nagumo model\")\n",
    "plt.show()"
   ]
  },
  {
   "cell_type": "markdown",
   "metadata": {},
   "source": [
    "We can now chop the trace into indivisual beats"
   ]
  },
  {
   "cell_type": "code",
   "execution_count": null,
   "metadata": {},
   "outputs": [],
   "source": [
    "beats = s.beats\n",
    "print(beats)"
   ]
  },
  {
   "cell_type": "markdown",
   "metadata": {},
   "source": [
    "And plot them"
   ]
  },
  {
   "cell_type": "code",
   "execution_count": null,
   "metadata": {},
   "outputs": [],
   "source": [
    "fig, ax = plt.subplots()\n",
    "for beat in beats:\n",
    "    ax.plot(beat.t, beat.y)\n",
    "ax.set_title(\"Chopped beats\")\n",
    "plt.show()"
   ]
  },
  {
   "cell_type": "markdown",
   "metadata": {},
   "source": [
    "We can also plot the action potential duration for each beat"
   ]
  },
  {
   "cell_type": "code",
   "execution_count": null,
   "metadata": {},
   "outputs": [],
   "source": [
    "# Plot some APDs\n",
    "fig, ax = plt.subplots()\n",
    "apds = [20, 40, 50, 70, 80]\n",
    "N = len(apds)\n",
    "x = np.arange(N)\n",
    "width = 1 / (s.num_beats + 1)\n",
    "for i, beat in enumerate(beats):\n",
    "    ax.bar(x + i * width, [beat.apd(apd) for apd in apds], width=width)\n",
    "ax.set_xticks(x + 0.5 - width)\n",
    "ax.set_xticklabels(apds)\n",
    "ax.set_ylabel(\"Time [ms]\")\n",
    "ax.set_xlabel(\"APD\")\n",
    "ax.grid()\n",
    "ax.set_title(\"Action potential duration for different beats\")\n",
    "plt.show()"
   ]
  }
 ],
 "metadata": {
  "interpreter": {
   "hash": "71d1daa06cca1399e530bf7ac90e1c1c198c1ad981e1f185ecc1001a75d48944"
  },
  "kernelspec": {
   "display_name": "Python 3.8.12 64-bit ('venv': venv)",
   "name": "python3"
  },
  "language_info": {
   "codemirror_mode": {
    "name": "ipython",
    "version": 3
   },
   "file_extension": ".py",
   "mimetype": "text/x-python",
   "name": "python",
   "nbconvert_exporter": "python",
   "pygments_lexer": "ipython3",
   "version": "3.8.12"
  }
 },
 "nbformat": 4,
 "nbformat_minor": 4
}
