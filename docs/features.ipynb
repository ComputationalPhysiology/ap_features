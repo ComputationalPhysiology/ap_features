{
 "cells": [
  {
   "attachments": {},
   "cell_type": "markdown",
   "id": "b467e5c0",
   "metadata": {},
   "source": [
    "# Features\n",
    "\n",
    "Here we will go through the different features that we can compute with `ap_features`."
   ]
  },
  {
   "cell_type": "code",
   "execution_count": null,
   "id": "e88ac185",
   "metadata": {},
   "outputs": [],
   "source": [
    "import numpy as np\n",
    "import matplotlib.pyplot as plt\n",
    "import ap_features as apf"
   ]
  },
  {
   "attachments": {},
   "cell_type": "markdown",
   "id": "7271e619",
   "metadata": {},
   "source": [
    "## Single beat features\n",
    "\n",
    "To start with we will go through some features that we can derive from a single beat. To illustrate this we will use a synthetic calcium transient"
   ]
  },
  {
   "cell_type": "code",
   "execution_count": null,
   "id": "a1d319ae",
   "metadata": {
    "lines_to_next_cell": 1
   },
   "outputs": [],
   "source": [
    "time = np.linspace(0, 1, 101)\n",
    "tstart = 0.05\n",
    "y = apf.testing.ca_transient(t=time, tstart=tstart)\n",
    "\n",
    "fig, ax = plt.subplots()\n",
    "ax.plot(time, y)\n",
    "plt.show()"
   ]
  },
  {
   "attachments": {},
   "cell_type": "markdown",
   "id": "20ff1b1b",
   "metadata": {},
   "source": [
    "Notice that the trace starts at `t=0.05` and we could use a pacing amplitude to indicate this, e.g"
   ]
  },
  {
   "cell_type": "code",
   "execution_count": null,
   "id": "a335ef61",
   "metadata": {},
   "outputs": [],
   "source": [
    "pacing = np.zeros_like(time)\n",
    "pacing[np.isclose(time, tstart)]  = 1\n",
    "\n",
    "fig, ax = plt.subplots()\n",
    "ax.plot(time, y)\n",
    "ax.plot(time, pacing, color=\"red\")\n",
    "plt.show()"
   ]
  },
  {
   "attachments": {},
   "cell_type": "markdown",
   "id": "f34282e3",
   "metadata": {},
   "source": [
    "Another way to work with `ap_feautres` is to convert the trace into a beat, in which case you can do"
   ]
  },
  {
   "cell_type": "code",
   "execution_count": null,
   "id": "f9016fdc",
   "metadata": {},
   "outputs": [],
   "source": [
    "beat = apf.Beat(y=y, t=time, pacing=pacing)\n",
    "\n",
    "beat.plot(include_pacing=True)"
   ]
  },
  {
   "cell_type": "code",
   "execution_count": null,
   "id": "f6dc4bf8",
   "metadata": {
    "tags": [
     "hide-input"
    ]
   },
   "outputs": [],
   "source": [
    "def arrow_annotate(ax, y1, y2, t1, t2, label, add_bbox=False):\n",
    "    mid_t = 0.5 * (t1 + t2)\n",
    "    mid_y = 0.5 * (y1 + y2)\n",
    "    ax.annotate(\n",
    "        text=\"\",\n",
    "        xy=(t1, y1),\n",
    "        xytext=(t2, y2),\n",
    "        arrowprops=dict(arrowstyle=\"<->\"),\n",
    "    )\n",
    "    ax.text(\n",
    "        mid_t,\n",
    "        mid_y,\n",
    "        label,\n",
    "        size=\"large\",\n",
    "        bbox=dict(boxstyle=\"circle\", fc=\"w\", ec=\"k\") if add_bbox else None,\n",
    "    )"
   ]
  },
  {
   "attachments": {},
   "cell_type": "markdown",
   "id": "57f9d6c0",
   "metadata": {},
   "source": [
    "### Time to peak\n",
    "\n",
    "Time to peak is the time to the maximum attained value of the trace"
   ]
  },
  {
   "attachments": {},
   "cell_type": "markdown",
   "id": "633e14ce",
   "metadata": {},
   "source": [
    "If no more information than the time stamps and the trace is available, the algorithm will compute the time from the first time stamp (here 0.0) to the time of the maximum attained value"
   ]
  },
  {
   "cell_type": "code",
   "execution_count": null,
   "id": "d48c0efe",
   "metadata": {
    "tags": [
     "hide-input"
    ]
   },
   "outputs": [],
   "source": [
    "idx_max = np.argmax(y)\n",
    "t_max = time[idx_max]\n",
    "y_max = y[idx_max]\n",
    "y_start = 0.0\n",
    "\n",
    "fig, ax = plt.subplots()\n",
    "ax.plot(time, y)\n",
    "ax.plot([t_max, t_max],[y_max, y_start], \"k:\")\n",
    "arrow_annotate(ax=ax, y1=0.0, y2=0.0, t1=0.0, t2=t_max, label=\"\")\n",
    "plt.show()"
   ]
  },
  {
   "attachments": {},
   "cell_type": "markdown",
   "id": "702a01ad",
   "metadata": {},
   "source": [
    "In this case we have"
   ]
  },
  {
   "cell_type": "code",
   "execution_count": null,
   "id": "c4f8d6c2",
   "metadata": {},
   "outputs": [],
   "source": [
    "print(apf.features.time_to_peak(y=y, x=time))"
   ]
  },
  {
   "attachments": {},
   "cell_type": "markdown",
   "id": "f96d8fc5",
   "metadata": {},
   "source": [
    "However, if we have pacing information available we can extract information about when the upstroke starts"
   ]
  },
  {
   "cell_type": "code",
   "execution_count": null,
   "id": "f7cde61d",
   "metadata": {
    "tags": [
     "hide-input"
    ]
   },
   "outputs": [],
   "source": [
    "fig, ax = plt.subplots()\n",
    "ax.plot(time, y)\n",
    "ax.plot([t_max, t_max],[y_max, y_start], \"k:\")\n",
    "arrow_annotate(ax=ax, y1=0.0, y2=0.0, t1=tstart, t2=t_max, label=\"\")"
   ]
  },
  {
   "attachments": {},
   "cell_type": "markdown",
   "id": "643a9997",
   "metadata": {},
   "source": [
    "In which case we have for this trace"
   ]
  },
  {
   "cell_type": "code",
   "execution_count": null,
   "id": "d290e3d8",
   "metadata": {},
   "outputs": [],
   "source": [
    "print(apf.features.time_to_peak(y=y, x=time, pacing=pacing))"
   ]
  },
  {
   "attachments": {},
   "cell_type": "markdown",
   "id": "c068d79b",
   "metadata": {},
   "source": [
    "or using the `beat` object"
   ]
  },
  {
   "cell_type": "code",
   "execution_count": null,
   "id": "2dab96c5",
   "metadata": {},
   "outputs": [],
   "source": [
    "beat.ttp(use_pacing=True)"
   ]
  },
  {
   "attachments": {},
   "cell_type": "markdown",
   "id": "a665c51a",
   "metadata": {},
   "source": [
    "### Action potential duration (APD)\n",
    "\n",
    "To compute the action potential duration, commonly abbreviated as APD, you first need to find the points when your trace intersects with the APD$p$ - line and then compute the time difference between those two intersections. For example, say if you want to compute APD30, then you need to find the two intersecting points of the APD30-line which is where you are 30% from the peak of the trace. Once you have found those two intersections you can compute the time difference between those two points. "
   ]
  },
  {
   "cell_type": "code",
   "execution_count": null,
   "id": "ae626938",
   "metadata": {
    "tags": [
     "hide-input"
    ]
   },
   "outputs": [],
   "source": [
    "apd_coords30 = apf.features.apd_coords(30, V=y, t=time)\n",
    "apd_coords80 = apf.features.apd_coords(80, V=y, t=time)\n",
    "\n",
    "\n",
    "fig, ax = plt.subplots()\n",
    "ax.plot(time, y)\n",
    "ax.plot([apd_coords30.x1], [apd_coords30.y1], \"r*\")\n",
    "ax.plot([apd_coords30.x2], [apd_coords30.y2], \"r*\")\n",
    "ax.plot([apd_coords80.x1], [apd_coords80.y1], \"b*\")\n",
    "ax.plot([apd_coords80.x2], [apd_coords80.y2], \"b*\")\n",
    "ax.plot([0.0, 0.5], [1, 1], \"k:\")\n",
    "arrow_annotate(\n",
    "    ax=ax, \n",
    "    y1=apd_coords30.y1, \n",
    "    y2=apd_coords30.y2, \n",
    "    t1=apd_coords30.x1,\n",
    "    t2=apd_coords30.x2, \n",
    "    label=\"\"\n",
    ")\n",
    "arrow_annotate(\n",
    "    ax=ax, \n",
    "    y1=apd_coords80.y1, \n",
    "    y2=apd_coords80.y2, \n",
    "    t1=apd_coords80.x1,\n",
    "    t2=apd_coords80.x2, \n",
    "    label=\"\"\n",
    ")\n",
    "ax.text(\n",
    "    0.09,\n",
    "    0.63,\n",
    "    \"APD30\",\n",
    "    size=\"large\",\n",
    ")\n",
    "ax.text(\n",
    "    0.15,\n",
    "    0.15,\n",
    "    \"APD80\",\n",
    "    size=\"large\",\n",
    ")\n",
    "arrow_annotate(ax=ax, y1=1.0, y2=0.7, t1=0.0, t2=0.0, label=\"30%\")\n",
    "arrow_annotate(ax=ax, y1=1.0, y2=0.2, t1=0.5, t2=0.5, label=\"80%\")"
   ]
  },
  {
   "attachments": {},
   "cell_type": "markdown",
   "id": "a377bc34",
   "metadata": {},
   "source": [
    "Here we show the APD30 and APD80 which in this case is"
   ]
  },
  {
   "cell_type": "code",
   "execution_count": null,
   "id": "d5a06ac5",
   "metadata": {},
   "outputs": [],
   "source": [
    "print(f\"ADP30 = {apf.features.apd(30, y, time)}\")\n",
    "print(f\"ADP80 = {apf.features.apd(80, y, time)}\")"
   ]
  },
  {
   "attachments": {},
   "cell_type": "markdown",
   "id": "33d1f909",
   "metadata": {},
   "source": [
    "or using the `beat` object"
   ]
  },
  {
   "cell_type": "code",
   "execution_count": null,
   "id": "c5b59979",
   "metadata": {},
   "outputs": [],
   "source": [
    "print(f\"ADP30 = {beat.apd(30)}\")\n",
    "print(f\"ADP80 = {beat.apd(80)}\")"
   ]
  },
  {
   "attachments": {},
   "cell_type": "markdown",
   "id": "214691ad",
   "metadata": {},
   "source": [
    "### Decay time ($\\tau$)\n",
    "\n",
    "The decay time, also referred to as $\\tau_p$ (for some $p$) is the time from the attained peak value to the intersection of the APD $p$-line occurring after the peak value (i.e during the repolarization)"
   ]
  },
  {
   "cell_type": "code",
   "execution_count": null,
   "id": "f51b22f6",
   "metadata": {
    "tags": [
     "hide-input"
    ]
   },
   "outputs": [],
   "source": [
    "idx_max = np.argmax(y)\n",
    "t_max = time[idx_max]\n",
    "y_max = y[idx_max]\n",
    "y_start = 0.0\n",
    "\n",
    "apd_coords30 = apf.features.apd_coords(30, V=y, t=time)\n",
    "apd_coords80 = apf.features.apd_coords(80, V=y, t=time)\n",
    "\n",
    "\n",
    "fig, ax = plt.subplots()\n",
    "ax.plot(time, y)\n",
    "ax.plot([t_max], [y_max], \"g*\")\n",
    "ax.plot([apd_coords30.x2], [apd_coords30.y2], \"r*\")\n",
    "ax.plot([apd_coords80.x2], [apd_coords80.y2], \"b*\")\n",
    "ax.plot([t_max, t_max], [y_max, 0], \"k:\")\n",
    "arrow_annotate(\n",
    "    ax=ax, \n",
    "    y1=apd_coords30.y1, \n",
    "    y2=apd_coords30.y2, \n",
    "    t1=t_max,\n",
    "    t2=apd_coords30.x2, \n",
    "    label=\"\"\n",
    ")\n",
    "arrow_annotate(\n",
    "    ax=ax, \n",
    "    y1=apd_coords80.y1, \n",
    "    y2=apd_coords80.y2, \n",
    "    t1=t_max,\n",
    "    t2=apd_coords80.x2, \n",
    "    label=\"\"\n",
    ")\n",
    "ax.text(\n",
    "    0.15,\n",
    "    0.64,\n",
    "    r\"$\\tau_{30}$\",\n",
    "    size=\"large\",\n",
    ")\n",
    "ax.text(\n",
    "    0.18,\n",
    "    0.15,\n",
    "    r\"$\\tau_{80}$\",\n",
    "    size=\"large\",\n",
    ")\n",
    "arrow_annotate(ax=ax, y1=1.0, y2=0.7, t1=0.0, t2=0.0, label=\"30%\")\n",
    "arrow_annotate(ax=ax, y1=1.0, y2=0.2, t1=0.5, t2=0.5, label=\"80%\")"
   ]
  },
  {
   "attachments": {},
   "cell_type": "markdown",
   "id": "289afa82",
   "metadata": {},
   "source": [
    "Here you see the $\\tau_{30}$ and $\\tau_{80}$ which in this case is"
   ]
  },
  {
   "cell_type": "code",
   "execution_count": null,
   "id": "5ed205c8",
   "metadata": {},
   "outputs": [],
   "source": [
    "print(f\"\\u03C4_30 = {apf.features.tau(a=30, y=y, x=time)}\")\n",
    "print(f\"\\u03C4_80 = {apf.features.tau(a=80, y=y, x=time)}\")"
   ]
  },
  {
   "attachments": {},
   "cell_type": "markdown",
   "id": "06c18754",
   "metadata": {},
   "source": [
    "or using the `beat` object"
   ]
  },
  {
   "cell_type": "code",
   "execution_count": null,
   "id": "50156679",
   "metadata": {},
   "outputs": [],
   "source": [
    "print(f\"\\u03C4_30 = {beat.tau(30)}\")\n",
    "print(f\"\\u03C4_80 = {beat.tau(80)}\")"
   ]
  },
  {
   "attachments": {},
   "cell_type": "markdown",
   "id": "cd688d29",
   "metadata": {},
   "source": [
    "### Upstroke time\n",
    "\n",
    "The upstroke time is the time from the first intersection of the APD $p$-line occurring before the peak value (i.e during the depolarization) to the attained peak value"
   ]
  },
  {
   "cell_type": "code",
   "execution_count": null,
   "id": "6f62c179",
   "metadata": {
    "tags": [
     "hide-input"
    ]
   },
   "outputs": [],
   "source": [
    "idx_max = np.argmax(y)\n",
    "t_max = time[idx_max]\n",
    "y_max = y[idx_max]\n",
    "y_start = 0.0\n",
    "\n",
    "apd_coords30 = apf.features.apd_coords(30, V=y, t=time)\n",
    "apd_coords80 = apf.features.apd_coords(80, V=y, t=time)\n",
    "\n",
    "\n",
    "fig, ax = plt.subplots()\n",
    "ax.plot(time, y)\n",
    "ax.plot([t_max], [y_max], \"g*\")\n",
    "ax.plot([apd_coords30.x1], [apd_coords30.y1], \"r*\")\n",
    "ax.plot([apd_coords80.x1], [apd_coords80.y1], \"b*\")\n",
    "ax.plot([t_max, t_max], [y_max, 0], \"k:\")\n",
    "arrow_annotate(\n",
    "    ax=ax, \n",
    "    y1=apd_coords30.y1, \n",
    "    y2=apd_coords30.y2, \n",
    "    t1=t_max,\n",
    "    t2=apd_coords30.x1, \n",
    "    label=\"\"\n",
    ")\n",
    "arrow_annotate(\n",
    "    ax=ax, \n",
    "    y1=apd_coords80.y1, \n",
    "    y2=apd_coords80.y2, \n",
    "    t1=t_max,\n",
    "    t2=apd_coords80.x1, \n",
    "    label=\"\"\n",
    ")\n",
    "ax.text(\n",
    "    0.07,\n",
    "    0.64,\n",
    "    \"\",\n",
    "    size=\"large\",\n",
    ")\n",
    "ax.text(\n",
    "    0.06,\n",
    "    0.15,\n",
    "    r\"\",\n",
    "    size=\"large\",\n",
    ")\n",
    "arrow_annotate(ax=ax, y1=1.0, y2=0.7, t1=0.0, t2=0.0, label=\"30%\")\n",
    "arrow_annotate(ax=ax, y1=1.0, y2=0.2, t1=0.5, t2=0.5, label=\"80%\")"
   ]
  },
  {
   "attachments": {},
   "cell_type": "markdown",
   "id": "cbc45ee4",
   "metadata": {},
   "source": [
    "The upstroke time in this case is"
   ]
  },
  {
   "cell_type": "code",
   "execution_count": null,
   "id": "b829377d",
   "metadata": {},
   "outputs": [],
   "source": [
    "print(f\"Upstroke 30 = {apf.features.upstroke(a=30, y=y, x=time)}\")\n",
    "print(f\"Upstroke 80 = {apf.features.upstroke(a=80, y=y, x=time)}\")"
   ]
  },
  {
   "attachments": {},
   "cell_type": "markdown",
   "id": "e13a5f16",
   "metadata": {},
   "source": [
    "or equivalently"
   ]
  },
  {
   "cell_type": "code",
   "execution_count": null,
   "id": "52e6e8cc",
   "metadata": {},
   "outputs": [],
   "source": [
    "print(f\"Upstroke 30 = {beat.upstroke(a=30)}\")\n",
    "print(f\"Upstroke 80 = {beat.upstroke(a=80)}\")"
   ]
  },
  {
   "attachments": {},
   "cell_type": "markdown",
   "id": "8db6be04",
   "metadata": {},
   "source": [
    "### Triangulation\n",
    "\n",
    "For $\\tau_p$ we take the time from the peak value to the intersection of the APD $p$ line during the repolarization. Instead of starting from the $p$ value we can start from another APD $q$-line, e.g we can compute the time from the APD30 line to the APD 80 line during the repolarization. This is called the triangulation 80-30"
   ]
  },
  {
   "cell_type": "code",
   "execution_count": null,
   "id": "0910f1a8",
   "metadata": {
    "tags": [
     "hide-input"
    ]
   },
   "outputs": [],
   "source": [
    "idx_max = np.argmax(y)\n",
    "t_max = time[idx_max]\n",
    "y_max = y[idx_max]\n",
    "y_start = 0.0\n",
    "\n",
    "apd_coords30 = apf.features.apd_coords(30, V=y, t=time)\n",
    "apd_coords80 = apf.features.apd_coords(80, V=y, t=time)\n",
    "\n",
    "\n",
    "fig, ax = plt.subplots()\n",
    "ax.plot(time, y)\n",
    "ax.plot([apd_coords30.x2], [apd_coords30.y2], \"r*\")\n",
    "ax.plot([apd_coords80.x2], [apd_coords80.y2], \"b*\")\n",
    "ax.plot([apd_coords30.x2, apd_coords30.x2], [apd_coords30.y2, 0], \"k:\")\n",
    "\n",
    "arrow_annotate(\n",
    "    ax=ax, \n",
    "    y1=apd_coords80.y1, \n",
    "    y2=apd_coords80.y2, \n",
    "    t1=apd_coords30.x2,\n",
    "    t2=apd_coords80.x2, \n",
    "    label=\"\"\n",
    ")\n",
    "arrow_annotate(ax=ax, y1=1.0, y2=0.7, t1=0.0, t2=0.0, label=\"30%\")\n",
    "arrow_annotate(ax=ax, y1=1.0, y2=0.2, t1=0.5, t2=0.5, label=\"80%\")"
   ]
  },
  {
   "cell_type": "code",
   "execution_count": null,
   "id": "3e7cedcd",
   "metadata": {},
   "outputs": [],
   "source": [
    "print(f\"Triangulation 30-80 = {apf.features.triangulation(low=30, high=80, V=y, t=time)}\")"
   ]
  },
  {
   "attachments": {},
   "cell_type": "markdown",
   "id": "8df8a49c",
   "metadata": {},
   "source": [
    "or using the `beat` object"
   ]
  },
  {
   "cell_type": "code",
   "execution_count": null,
   "id": "9799d30b",
   "metadata": {},
   "outputs": [],
   "source": [
    "print(f\"Triangulation 30-80 = {beat.triangulation(low=30, high=80)}\")"
   ]
  },
  {
   "attachments": {},
   "cell_type": "markdown",
   "id": "2948cc88",
   "metadata": {},
   "source": [
    "### APD up xy\n",
    "\n",
    "This feature takes two factors $p_1$ and $p_2$ and report the time from the first intersection of the $APD$ $p_1$ line to the first intersection of the $p_2$-line. This is equivalent to the upstroke time when $p_2 = 0$."
   ]
  },
  {
   "cell_type": "code",
   "execution_count": null,
   "id": "751966f9",
   "metadata": {
    "tags": [
     "hide-input"
    ]
   },
   "outputs": [],
   "source": [
    "idx_max = np.argmax(y)\n",
    "t_max = time[idx_max]\n",
    "y_max = y[idx_max]\n",
    "y_start = 0.0\n",
    "\n",
    "apd_coords30 = apf.features.apd_coords(30, V=y, t=time)\n",
    "apd_coords80 = apf.features.apd_coords(80, V=y, t=time)\n",
    "\n",
    "\n",
    "fig, ax = plt.subplots()\n",
    "ax.plot(time, y)\n",
    "ax.plot([apd_coords30.x1], [apd_coords30.y1], \"r*\")\n",
    "ax.plot([apd_coords80.x1], [apd_coords80.y1], \"b*\")\n",
    "ax.plot([apd_coords30.x1, apd_coords30.x1], [apd_coords30.y1, 0], \"k:\")\n",
    "\n",
    "arrow_annotate(\n",
    "    ax=ax, \n",
    "    y1=apd_coords80.y1, \n",
    "    y2=apd_coords80.y2, \n",
    "    t1=apd_coords30.x1,\n",
    "    t2=apd_coords80.x1, \n",
    "    label=\"\"\n",
    ")\n",
    "arrow_annotate(ax=ax, y1=1.0, y2=0.7, t1=0.0, t2=0.0, label=\"30%\")\n",
    "arrow_annotate(ax=ax, y1=1.0, y2=0.2, t1=0.5, t2=0.5, label=\"80%\")"
   ]
  },
  {
   "cell_type": "code",
   "execution_count": null,
   "id": "d9f364d8",
   "metadata": {},
   "outputs": [],
   "source": [
    "print(f\"APD upstroke 30-80 = {apf.features.apd_up_xy(low=30, high=80, y=y, t=time)}\")"
   ]
  },
  {
   "attachments": {},
   "cell_type": "markdown",
   "id": "d03262bb",
   "metadata": {},
   "source": [
    "or using the `beat` object"
   ]
  },
  {
   "cell_type": "code",
   "execution_count": null,
   "id": "bc916ad6",
   "metadata": {},
   "outputs": [],
   "source": [
    "print(f\"APD upstroke 30-80 = {beat.apd_up_xy(low=30, high=80)}\")"
   ]
  }
 ],
 "metadata": {
  "celltoolbar": "Edit Metadata",
  "jupytext": {
   "cell_metadata_filter": "-all",
   "main_language": "python",
   "notebook_metadata_filter": "-all"
  },
  "kernelspec": {
   "display_name": "Python 3 (ipykernel)",
   "language": "python",
   "name": "python3"
  },
  "language_info": {
   "codemirror_mode": {
    "name": "ipython",
    "version": 3
   },
   "file_extension": ".py",
   "mimetype": "text/x-python",
   "name": "python",
   "nbconvert_exporter": "python",
   "pygments_lexer": "ipython3",
   "version": "3.10.6"
  }
 },
 "nbformat": 4,
 "nbformat_minor": 5
}
